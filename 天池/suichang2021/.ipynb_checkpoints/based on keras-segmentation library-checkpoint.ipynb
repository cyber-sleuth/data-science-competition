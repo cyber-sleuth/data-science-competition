{
 "cells": [
  {
   "cell_type": "code",
   "execution_count": null,
   "metadata": {
    "_cell_guid": "b1076dfc-b9ad-4769-8c92-a6c4dae69d19",
    "_uuid": "8f2839f25d086af736a60e9eeb907d3b93b6e0e5"
   },
   "outputs": [],
   "source": [
    "# This Python 3 environment comes with many helpful analytics libraries installed\n",
    "# It is defined by the kaggle/python Docker image: https://github.com/kaggle/docker-python\n",
    "# For example, here's several helpful packages to load\n",
    "\n",
    "import numpy as np # linear algebra\n",
    "import pandas as pd # data processing, CSV file I/O (e.g. pd.read_csv)\n",
    "\n",
    "# Input data files are available in the read-only \"../input/\" directory\n",
    "# For example, running this (by clicking run or pressing Shift+Enter) will list all files under the input directory\n",
    "\n",
    "import os\n",
    "for dirname, _, filenames in os.walk('/kaggle/input'):\n",
    "    for filename in filenames:\n",
    "        print(os.path.join(dirname, filename))\n",
    "\n",
    "# You can write up to 20GB to the current directory (/kaggle/working/) that gets preserved as output when you create a version using \"Save & Run All\" \n",
    "# You can also write temporary files to /kaggle/temp/, but they won't be saved outside of the current session"
   ]
  },
  {
   "cell_type": "markdown",
   "metadata": {},
   "source": [
    "# Dataset"
   ]
  },
  {
   "cell_type": "markdown",
   "metadata": {},
   "source": [
    "## Convert RGBA to RGB"
   ]
  },
  {
   "cell_type": "code",
   "execution_count": null,
   "metadata": {},
   "outputs": [],
   "source": [
    "import os\n",
    "from PIL import Image\n",
    "from tqdm import tqdm\n",
    "from pathlib import Path\n",
    "\n",
    "root = Path('/kaggle/input/suichang-round1-data/suichang_round1_train')\n",
    "original_img_dir = root / 'original_images'\n",
    "rgb_img_dir = Path('./rgb_images')\n",
    "if not os.path.exists(rgb_img_dir):\n",
    "    os.makedirs(rgb_img_dir)\n",
    "    \n",
    "img_names = os.listdir(original_img_dir)\n",
    "for img_name in tqdm(img_names):\n",
    "    img_path = original_img_dir / img_name\n",
    "    img = Image.open(img_path).convert('RGB')\n",
    "    img.save(rgb_img_dir / (img_name.split('.')[0] + '.jpg'))"
   ]
  },
  {
   "cell_type": "code",
   "execution_count": null,
   "metadata": {},
   "outputs": [],
   "source": [
    "from PIL import Image\n",
    "import matplotlib.pyplot as plt\n",
    "\n",
    "from pathlib import Path\n",
    "import random\n",
    "\n",
    "root = Path('/kaggle/input/suichang-round1-data/suichang_round1_train')\n",
    "rand_number = random.randint(1, 16017) \n",
    "original_img = root / ('original_images/%06d.tif' % rand_number)\n",
    "seg_img = root / ('segmentation/%06d.png' % rand_number)\n",
    "\n",
    "fig, axs = plt.subplots(1, 2, figsize=(16, 8), constrained_layout=True)\n",
    "\n",
    "axs[0].imshow(Image.open(original_img))\n",
    "axs[0].grid(False)\n",
    "\n",
    "axs[1].imshow(Image.open(seg_img))\n",
    "axs[1].grid(False)"
   ]
  },
  {
   "cell_type": "markdown",
   "metadata": {},
   "source": [
    "# Setup"
   ]
  },
  {
   "cell_type": "markdown",
   "metadata": {},
   "source": [
    "Source Github Link: https://github.com/divamgupta/image-segmentation-keras"
   ]
  },
  {
   "cell_type": "code",
   "execution_count": null,
   "metadata": {},
   "outputs": [],
   "source": [
    "!pip install keras-segmentation -q"
   ]
  },
  {
   "cell_type": "markdown",
   "metadata": {},
   "source": [
    "# Train"
   ]
  },
  {
   "cell_type": "code",
   "execution_count": null,
   "metadata": {},
   "outputs": [],
   "source": [
    "from keras_segmentation.models.unet import resnet50_unet\n",
    "\n",
    "model = resnet50_unet(n_classes=10, input_height=256, input_width=256)\n",
    "\n",
    "model.train(\n",
    "    train_images=root / 'original_images/',\n",
    "    train_annotations=root / 'segmentation/',\n",
    "    checkpoints_path='./resnet50_unet',\n",
    "    epochs=1\n",
    ")"
   ]
  }
 ],
 "metadata": {
  "kernelspec": {
   "display_name": "Python 3",
   "language": "python",
   "name": "python3"
  },
  "language_info": {
   "codemirror_mode": {
    "name": "ipython",
    "version": 3
   },
   "file_extension": ".py",
   "mimetype": "text/x-python",
   "name": "python",
   "nbconvert_exporter": "python",
   "pygments_lexer": "ipython3",
   "version": "3.8.5"
  }
 },
 "nbformat": 4,
 "nbformat_minor": 4
}
