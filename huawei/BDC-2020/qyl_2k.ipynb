{
 "cells": [
  {
   "cell_type": "markdown",
   "metadata": {},
   "source": [
    "## 正式赛题——船运到达时间预测\n",
    "在企业全球化业务体系中，海运物流作为其最重要的一项支撑。其中，船运公司会和数据供应公司进行合作，对运输用的船通过GPS进行定位以监控船的位置；在运输管理的过程中，货物到达目的港的时间是非常重要的一项数据，那么需要通过船运的历史数据构建模型，对目的港到达时间进行预测，预测时间简称为ETA（estimated time of arrival），目的港到达时间预测为ARRIVAL_ETA。\n",
    "本次大赛提供历史运单GPS数据、历史运单事件数据、港口坐标数据，**预测货物运单的到达时间，对应“历史运单事件”数据中EVENT_CODE字段值为ARRIVAL AT PORT时EVENT_CONVOLUTION_DATE的时间值**。\n",
    "\n",
    "一、比赛数据\n",
    "大赛提供脱敏后的训练数据及测试数据，训练数据集包括：历史运单GPS数据、历史运单事件数据、港口坐标数据，这些数据主要用于参赛队伍训练模型，制定预估策略；测试运单数据为不同运单、运输过程中的不同位置所构成，供选手测试对应的ETA时间。\n",
    "货物运单在船运过程中，会产生大量的GPS运单数据，记录为“历史运单GPS数据”；货物运单在船运过程中离开起运港、到达中转港、到达目的港等关键事件，记录为“历史运单事件数据”；“港口的坐标数据“为与运单船运相关的港口坐标信息。\n",
    "允许选手合理增加与题目相关的外部数据进行纠正，如大赛提供的港口坐标数据存在偏差时可自行补充数据纠正"
   ]
  },
  {
   "cell_type": "code",
   "execution_count": 1,
   "metadata": {},
   "outputs": [],
   "source": [
    "import pandas as pd\n",
    "import numpy as np\n",
    "import warnings\n",
    "warnings.filterwarnings('ignore')"
   ]
  },
  {
   "cell_type": "markdown",
   "metadata": {},
   "source": [
    "\n",
    "## 坐标数据描述每个运单在船运的过程中涉及的港口位置信息:\n",
    "- 港口名称\n",
    "- 港口的经度坐标\n",
    "- 港口的纬度坐标\n",
    "- 国家\n",
    "- 省|州\n",
    "- 城市\n",
    "- 县|区\n",
    "- 详细地址。\n",
    "- 港口编码，即港口的字母简码"
   ]
  },
  {
   "cell_type": "code",
   "execution_count": 2,
   "metadata": {},
   "outputs": [
    {
     "data": {
      "text/html": [
       "<div>\n",
       "<style scoped>\n",
       "    .dataframe tbody tr th:only-of-type {\n",
       "        vertical-align: middle;\n",
       "    }\n",
       "\n",
       "    .dataframe tbody tr th {\n",
       "        vertical-align: top;\n",
       "    }\n",
       "\n",
       "    .dataframe thead th {\n",
       "        text-align: right;\n",
       "    }\n",
       "</style>\n",
       "<table border=\"1\" class=\"dataframe\">\n",
       "  <thead>\n",
       "    <tr style=\"text-align: right;\">\n",
       "      <th></th>\n",
       "      <th>LONGITUDE</th>\n",
       "      <th>LATITUDE</th>\n",
       "      <th>PORT_CODE</th>\n",
       "      <th>TRANSPORT_NODE_ID</th>\n",
       "    </tr>\n",
       "  </thead>\n",
       "  <tbody>\n",
       "    <tr>\n",
       "      <th>count</th>\n",
       "      <td>2456.000000</td>\n",
       "      <td>2456.000000</td>\n",
       "      <td>2.500000e+01</td>\n",
       "      <td>2.420000e+03</td>\n",
       "    </tr>\n",
       "    <tr>\n",
       "      <th>mean</th>\n",
       "      <td>16.518344</td>\n",
       "      <td>18.550666</td>\n",
       "      <td>3.458640e+07</td>\n",
       "      <td>5.477894e+07</td>\n",
       "    </tr>\n",
       "    <tr>\n",
       "      <th>std</th>\n",
       "      <td>71.399595</td>\n",
       "      <td>22.590817</td>\n",
       "      <td>7.384261e+07</td>\n",
       "      <td>7.974048e+07</td>\n",
       "    </tr>\n",
       "    <tr>\n",
       "      <th>min</th>\n",
       "      <td>-175.183605</td>\n",
       "      <td>-53.793502</td>\n",
       "      <td>2.462000e+06</td>\n",
       "      <td>1.170000e+05</td>\n",
       "    </tr>\n",
       "    <tr>\n",
       "      <th>25%</th>\n",
       "      <td>-3.457919</td>\n",
       "      <td>0.611022</td>\n",
       "      <td>2.576000e+06</td>\n",
       "      <td>2.927750e+06</td>\n",
       "    </tr>\n",
       "    <tr>\n",
       "      <th>50%</th>\n",
       "      <td>7.676975</td>\n",
       "      <td>18.432586</td>\n",
       "      <td>3.519000e+06</td>\n",
       "      <td>3.553500e+06</td>\n",
       "    </tr>\n",
       "    <tr>\n",
       "      <th>75%</th>\n",
       "      <td>57.510925</td>\n",
       "      <td>37.748396</td>\n",
       "      <td>3.684000e+06</td>\n",
       "      <td>9.520150e+07</td>\n",
       "    </tr>\n",
       "    <tr>\n",
       "      <th>max</th>\n",
       "      <td>178.557549</td>\n",
       "      <td>73.212735</td>\n",
       "      <td>2.118270e+08</td>\n",
       "      <td>2.842170e+08</td>\n",
       "    </tr>\n",
       "  </tbody>\n",
       "</table>\n",
       "</div>"
      ],
      "text/plain": [
       "         LONGITUDE     LATITUDE     PORT_CODE  TRANSPORT_NODE_ID\n",
       "count  2456.000000  2456.000000  2.500000e+01       2.420000e+03\n",
       "mean     16.518344    18.550666  3.458640e+07       5.477894e+07\n",
       "std      71.399595    22.590817  7.384261e+07       7.974048e+07\n",
       "min    -175.183605   -53.793502  2.462000e+06       1.170000e+05\n",
       "25%      -3.457919     0.611022  2.576000e+06       2.927750e+06\n",
       "50%       7.676975    18.432586  3.519000e+06       3.553500e+06\n",
       "75%      57.510925    37.748396  3.684000e+06       9.520150e+07\n",
       "max     178.557549    73.212735  2.118270e+08       2.842170e+08"
      ]
     },
     "execution_count": 2,
     "metadata": {},
     "output_type": "execute_result"
    }
   ],
   "source": [
    "#港口坐标数据\n",
    "#港口坐标数据描述每个运单在船运的过程中涉及的港口位置信息。\n",
    "port=pd.read_csv('../event_port/port.csv')\n",
    "port.describe()"
   ]
  },
  {
   "cell_type": "markdown",
   "metadata": {},
   "source": [
    "### 历史运单GPS数据\n",
    "#### 历史运单GPS数据描述每个运单在船运的过程中，所在船产生的GPS位置的相关信息。\n",
    "- loadingOrder 脱敏后的主运单，货物的运单编号，类似快递单号\n",
    "- carrierName 脱敏后的承运商名称，类似快递公司名称\n",
    "- timestamp 时间，格式为：yyyy-MM-dd'T'HH:mm:ss.SSSZ，如2019-09-05T16:33:17.000Z\n",
    "- longitude 货物在运输过程中，当前船舶所处的经度坐标，如114.234567\n",
    "- latitude 货物在运输过程中，当前船舶所处的纬度坐标，如21.234567\n",
    "- vesselMMSI 脱敏后的船舶海上移动业务识别码MMSI， 唯一标识，对应到每一艘船\n",
    "- speed 单位km/h，货物在运输过程中，当前船舶的瞬时速度，部分数据未提供的可自行计算。\n",
    "- direction 当前船舶的行驶方向，正北是0度，31480代表西北方向314.80度，900代表正北偏东9度。\n",
    "- vesselNextport 船舶将要到达的下一港口，港口名称可能不规范，如CNQIN、CN QIN、CN QINGDAO都代表下一站为中国青岛港口。\n",
    "- vesselNextportETA 船运公司给出的到“下一个港口”预计到达时间，格式为：yyyy-MM-dd'T'HH:mm:ss.SSSZ，如2019-09-12T16:33:17.000Z\n",
    "- vesselStatus 当前船舶航行状态，主要包括：\n",
    "  - moored\n",
    "  - under way using engine\n",
    "  - not under command\n",
    "  - at anchor\n",
    "  - under way sailing\n",
    "  - constrained by her draught\n",
    "- vesselDatasource 船舶数据来源（岸基/卫星）：Coastal AIS，Satellite\n",
    "- TRANSPORT_TRACE  船的路由，由“-”连接组成，例如CNSHK-MYPKG-MYTPP。由承运商预先录入，实际小概率存在不按此路由行驶（如遇塞港时），但最终会到达目的港口。\n",
    "\n",
    "### 注意!!: 一个运单对应一艘船，一艘船可以对应多个运单"
   ]
  },
  {
   "cell_type": "markdown",
   "metadata": {},
   "source": [
    "## 一列一列读取GPS数据分析\n",
    "- 总共147907541条数据\n",
    "- 运单数量:21157条;相应的event中运单数量15512;因此gps中很多订单是没有event数据的\n",
    "- 时间库跨度:1.1~4.30总共4个月\n",
    "- TRANSPORT_TRACE中，有55029818缺失"
   ]
  },
  {
   "cell_type": "code",
   "execution_count": 4,
   "metadata": {},
   "outputs": [
    {
     "data": {
      "text/html": [
       "<div>\n",
       "<style scoped>\n",
       "    .dataframe tbody tr th:only-of-type {\n",
       "        vertical-align: middle;\n",
       "    }\n",
       "\n",
       "    .dataframe tbody tr th {\n",
       "        vertical-align: top;\n",
       "    }\n",
       "\n",
       "    .dataframe thead th {\n",
       "        text-align: right;\n",
       "    }\n",
       "</style>\n",
       "<table border=\"1\" class=\"dataframe\">\n",
       "  <thead>\n",
       "    <tr style=\"text-align: right;\">\n",
       "      <th></th>\n",
       "      <th>longitude</th>\n",
       "      <th>latitude</th>\n",
       "      <th>speed</th>\n",
       "      <th>direction</th>\n",
       "    </tr>\n",
       "  </thead>\n",
       "  <tbody>\n",
       "    <tr>\n",
       "      <th>count</th>\n",
       "      <td>7.194400e+07</td>\n",
       "      <td>7.194400e+07</td>\n",
       "      <td>7.194400e+07</td>\n",
       "      <td>7.194400e+07</td>\n",
       "    </tr>\n",
       "    <tr>\n",
       "      <th>mean</th>\n",
       "      <td>5.754967e+01</td>\n",
       "      <td>1.283384e+01</td>\n",
       "      <td>2.180132e+01</td>\n",
       "      <td>2.059113e+04</td>\n",
       "    </tr>\n",
       "    <tr>\n",
       "      <th>std</th>\n",
       "      <td>7.017714e+01</td>\n",
       "      <td>2.228892e+01</td>\n",
       "      <td>1.314887e+01</td>\n",
       "      <td>1.009879e+04</td>\n",
       "    </tr>\n",
       "    <tr>\n",
       "      <th>min</th>\n",
       "      <td>-1.800000e+02</td>\n",
       "      <td>-5.100285e+01</td>\n",
       "      <td>0.000000e+00</td>\n",
       "      <td>-1.000000e+00</td>\n",
       "    </tr>\n",
       "    <tr>\n",
       "      <th>25%</th>\n",
       "      <td>1.550702e+01</td>\n",
       "      <td>1.284487e+00</td>\n",
       "      <td>1.200000e+01</td>\n",
       "      <td>1.120000e+04</td>\n",
       "    </tr>\n",
       "    <tr>\n",
       "      <th>50%</th>\n",
       "      <td>7.829897e+01</td>\n",
       "      <td>1.376067e+01</td>\n",
       "      <td>2.700000e+01</td>\n",
       "      <td>2.350000e+04</td>\n",
       "    </tr>\n",
       "    <tr>\n",
       "      <th>75%</th>\n",
       "      <td>1.048785e+02</td>\n",
       "      <td>3.090405e+01</td>\n",
       "      <td>3.200000e+01</td>\n",
       "      <td>2.891000e+04</td>\n",
       "    </tr>\n",
       "    <tr>\n",
       "      <th>max</th>\n",
       "      <td>1.800000e+02</td>\n",
       "      <td>6.859553e+01</td>\n",
       "      <td>1.890000e+02</td>\n",
       "      <td>5.110000e+04</td>\n",
       "    </tr>\n",
       "  </tbody>\n",
       "</table>\n",
       "</div>"
      ],
      "text/plain": [
       "          longitude      latitude         speed     direction\n",
       "count  7.194400e+07  7.194400e+07  7.194400e+07  7.194400e+07\n",
       "mean   5.754967e+01  1.283384e+01  2.180132e+01  2.059113e+04\n",
       "std    7.017714e+01  2.228892e+01  1.314887e+01  1.009879e+04\n",
       "min   -1.800000e+02 -5.100285e+01  0.000000e+00 -1.000000e+00\n",
       "25%    1.550702e+01  1.284487e+00  1.200000e+01  1.120000e+04\n",
       "50%    7.829897e+01  1.376067e+01  2.700000e+01  2.350000e+04\n",
       "75%    1.048785e+02  3.090405e+01  3.200000e+01  2.891000e+04\n",
       "max    1.800000e+02  6.859553e+01  1.890000e+02  5.110000e+04"
      ]
     },
     "execution_count": 4,
     "metadata": {},
     "output_type": "execute_result"
    }
   ],
   "source": [
    "#gpsdf.shape\n",
    "#gpsdf.to_csv('gps_sample5kw.csv',index=False)\n",
    "gpsdf=pd.read_csv('../clean_dataset/dataHasAllXY.csv')\n",
    "gpsdf.describe()"
   ]
  },
  {
   "cell_type": "code",
   "execution_count": 5,
   "metadata": {},
   "outputs": [],
   "source": [
    "#对数据进行预处理\n",
    "def get_data(data, mode='train'):\n",
    "    \n",
    "    assert mode=='train' or mode=='test'\n",
    "    \n",
    "    if mode=='train':#船舶将要到达的下一个港口的预计时间,转码格式\n",
    "        pass\n",
    "    elif mode=='test':\n",
    "        data['temp_timestamp'] = data['timestamp']#当前时间\n",
    "        data['onboardDate'] = pd.to_datetime(data['onboardDate'], infer_datetime_format=True)#离开起运港时间\n",
    "    data['timestamp'] = pd.to_datetime(data['timestamp'], infer_datetime_format=True)\n",
    "    data['longitude'] = data['longitude'].astype(float)\n",
    "    data['loadingOrder'] = data['loadingOrder'].astype(str)\n",
    "    data['latitude'] = data['latitude'].astype(float)\n",
    "    data['speed'] = data['speed'].astype(float)\n",
    "    data['direction'] = data['direction'].astype(float)\n",
    "\n",
    "    return data\n",
    "gpsdf = get_data(gpsdf, mode='train')\n",
    "#test_data = get_data(test_data, mode='test')"
   ]
  },
  {
   "cell_type": "code",
   "execution_count": 6,
   "metadata": {},
   "outputs": [
    {
     "name": "stdout",
     "output_type": "stream",
     "text": [
      "finished1...\n",
      "12148 12148 12148\n"
     ]
    },
    {
     "data": {
      "text/plain": [
       "(12148, (42972416, 7))"
      ]
     },
     "execution_count": 6,
     "metadata": {},
     "output_type": "execute_result"
    }
   ],
   "source": [
    "#预处理特征，得到标签,同时得到起点到终点的距离\n",
    "#因为寻咯数据是完整轨迹，那么为了和测试数据保持一致，需要为训练数据选取一个截断点cut，只保留截断点之前的数据\n",
    "import random\n",
    "from geopy.distance import geodesic\n",
    "def cut_data(df):\n",
    "    cut_list=[]\n",
    "    reserve_list=[]\n",
    "    #labels=[]\n",
    "    df.sort_values(['loadingOrder', 'timestamp'], inplace=True)\n",
    "    sx=[]\n",
    "    sy=[]\n",
    "    ex=[]\n",
    "    ey=[]\n",
    "    dis=[]\n",
    "    grouped=df.groupby('loadingOrder')\n",
    "    for name,group in grouped:\n",
    "        group=group.reset_index(drop=True)\n",
    "        s_x=group['longitude'][:1].reset_index(drop=True)[0]\n",
    "        s_y=group['latitude'][:1].reset_index(drop=True)[0]\n",
    "        e_x=group['longitude'][-1:].reset_index(drop=True)[0]\n",
    "        e_y=group['latitude'][-1:].reset_index(drop=True)[0]\n",
    "        sx.append(s_x)\n",
    "        sy.append(s_y)\n",
    "        ex.append(e_x)\n",
    "        ey.append(e_y)\n",
    "        dis.append(geodesic((s_y,s_x), (e_y,e_x)).km)\n",
    "    group_df = grouped['timestamp']#.agg(('mmax','max'))#.reset_index()\n",
    "    print('finished1...')\n",
    "    #\n",
    "    for name,group in group_df:\n",
    "        reser=int(len(group)*random.choice([0.3,0.4,0.5,0.6,0.7,0.8,0.9]))+1#随机保留一部分轨迹\n",
    "        reserve=list(group.index[0:reser])\n",
    "        reserve_list+=reserve\n",
    "        #label=(df.loc[group.index[-1],'timestamp']-df.loc[group.index[reser-1],'timestamp']).total_seconds()\n",
    "        #labels.append(label)\n",
    "    group_df = df.groupby('loadingOrder')['timestamp'].agg([('mmax','max'),('mmin','min')]).reset_index()\n",
    "    #读取数据的最大值-最小值，即确认时间间隔为label\n",
    "    labels=list((group_df['mmax'] - group_df['mmin']).dt.total_seconds())\n",
    "    return labels,reserve_list,sx,sy,ex,ey,dis\n",
    "#下面只需要保留原始数据cut之前的数据\n",
    "labels,reserve_list,sx,sy,ex,ey,dis=cut_data(gpsdf)\n",
    "print(len(gpsdf.loc[reserve_list].loadingOrder.unique()),len(labels),len(gpsdf.loadingOrder.unique()))\n",
    "gpsdf=gpsdf.loc[reserve_list].reset_index(drop=True)\n",
    "len(gpsdf.loadingOrder.unique()),gpsdf.shape"
   ]
  },
  {
   "cell_type": "code",
   "execution_count": 7,
   "metadata": {},
   "outputs": [
    {
     "name": "stdout",
     "output_type": "stream",
     "text": [
      "finished1...\n",
      "finished2...\n",
      "finished3...\n",
      "finished4...\n",
      "finished5...\n",
      "花费时间: 85.83543395996094\n"
     ]
    }
   ],
   "source": [
    "import time\n",
    "from geopy.distance import geodesic\n",
    "\n",
    "def get_train_feature(df):\n",
    "    start_time=time.time()\n",
    "    df.sort_values(['loadingOrder', 'timestamp'], inplace=True)\n",
    "\n",
    "    df['lat_diff']=df.groupby('loadingOrder')['latitude'].diff(1)\n",
    "    df['lon_diff']=df.groupby('loadingOrder')['longitude'].diff(1)\n",
    "    df['k']=df['lat_diff']/df['lon_diff']\n",
    "    print('finished1...')\n",
    "    df['speed_diff'] = df.groupby('loadingOrder')['speed'].diff(1)#速度变化量\n",
    "    df['diff_minutes'] = df.groupby('loadingOrder')['timestamp'].diff(1).dt.total_seconds() // 60#记录之间的间隔时间(单位:s)\n",
    "    df['a']=df['speed_diff']/df['diff_minutes']\n",
    "    print('finished2...')\n",
    "    #同时计算时间间隔，也就是运单抵达\"终点\"需要的时间,作为标签\n",
    "    group_df = df.groupby('loadingOrder')['timestamp'].agg([('mmax','max'),('count','count'), ('mmin','min')]).reset_index()\n",
    "\n",
    "    k=df.groupby('loadingOrder')['k'].agg([('k_max','max'), ('k_mean','mean'), ('k_min','min'),('k_median','median')])\n",
    "    a=df.groupby('loadingOrder')['a'].agg([('a_max','max'), ('a_mean','mean'), ('a_min','min'),('a_median','median')])\n",
    "    group_df = group_df.merge(k, on='loadingOrder', how='left')\n",
    "    group_df = group_df.merge(a, on='loadingOrder', how='left')\n",
    "    #以经纬,度,速度，方向为基础特征，然后计算最小，最大，均值，终值等统计特性（以运单为单位）\n",
    "    print('finished3...')\n",
    "    #在所有的记录中，多少记录是停船状态\n",
    "    #df['anchor'] = ((df['lat_diff'] <= 0.03) & (df['lon_diff'] <= 0.03)& (df['speed_diff'] <= 0.3) & (df['diff_minutes'] <= 10)).astype(int)\n",
    "    df['anchor'] = ((df['lat_diff'].abs() <= 0.03) & (df['lon_diff'].abs() <= 0.03)& (df['speed_diff'] <= 0.3) & (df['diff_minutes'] >= 10)).astype(int)\n",
    "\n",
    "    anchor_df = df.groupby('loadingOrder')['anchor'].agg('sum').reset_index()\n",
    "    anchor_df.columns = ['loadingOrder', 'anchor_cnt']\n",
    "    group_df = group_df.merge(anchor_df, on='loadingOrder', how='left')\n",
    "    #merge回原表，增加一列: 'anchor_cnt'，同时算一下停船的次数占总记录的比例\n",
    "    group_df['anchor_ratio'] = group_df['anchor_cnt'] / group_df['count']\n",
    "    print('finished4...')\n",
    "    agg_function = ['min', 'max', 'mean', 'median']\n",
    "    agg_col = ['latitude', 'longitude', 'speed', 'direction']\n",
    "    group = df.groupby('loadingOrder')[agg_col].agg(agg_function).reset_index()\n",
    "    print('finished5...')\n",
    "    group.columns = ['loadingOrder'] + ['{}_{}'.format(i, j) for i in agg_col for j in agg_function]\n",
    "    group_df = group_df.merge(group, on='loadingOrder', how='left')\n",
    "    end_time=time.time()\n",
    "    print(\"花费时间:\",end_time-start_time)\n",
    "    return group_df\n",
    "#   \n",
    "train = get_train_feature(gpsdf)\n",
    "#\n",
    "train['start_x']=sx\n",
    "train['start_y']=sy\n",
    "train['end_x']=ex\n",
    "train['end_y']=ey\n",
    "train['dis']=dis\n",
    "train['label']=np.array(labels)/3600"
   ]
  },
  {
   "cell_type": "markdown",
   "metadata": {},
   "source": [
    "## 观察训练数据标签的分布\n",
    "- 最长时间:86.28858796296296 day\n",
    "- 最短时间:0.0 day\n",
    "- 平均时间:16.70094809971483 day\n",
    "\n",
    "## 而测试数据中已知的轨迹长度为：\n",
    "- 最长时间:16.88171296296296 day\n",
    "- 最短时间:0.046527777777777786 day\n",
    "- 平均时间:4.325498415081749 day\n"
   ]
  },
  {
   "cell_type": "code",
   "execution_count": 8,
   "metadata": {},
   "outputs": [
    {
     "name": "stdout",
     "output_type": "stream",
     "text": [
      "最长时间:80.36274305555555 day\n",
      "最短时间:0.0 day\n",
      "平均时间:17.472454240105062 day\n"
     ]
    },
    {
     "data": {
      "image/png": "[encoded data removed]",
      "text/plain": [
       "<Figure size 432x288 with 1 Axes>"
      ]
     },
     "metadata": {
      "needs_background": "light"
     },
     "output_type": "display_data"
    }
   ],
   "source": [
    "train_label=np.array(train['label']/24)\n",
    "##观察下预测结果的分布\n",
    "name_cnt={}#{订单号：对应的事件记录条数}\n",
    "tmp=[]\n",
    "print(\"最长时间:%s day\"%(np.max(train_label)))\n",
    "print(\"最短时间:%s day\"%np.min(train_label))\n",
    "print(\"平均时间:%s day\"%np.mean(train_label))\n",
    "#画出分布直方图\n",
    "import pylab as plt \n",
    "bins = np.linspace(int(min(train_label)),int(max(train_label)),int(max(train_label)))\n",
    "plt.hist(train_label,bins)\n",
    "plt.xlabel('ETA of orders ')\n",
    "plt.ylabel('Number of orders')\n",
    "plt.title('train lables')\n",
    "plt.show()"
   ]
  },
  {
   "cell_type": "code",
   "execution_count": 9,
   "metadata": {},
   "outputs": [
    {
     "data": {
      "text/plain": [
       "(12137, 36)"
      ]
     },
     "execution_count": 9,
     "metadata": {},
     "output_type": "execute_result"
    }
   ],
   "source": [
    "train=train[train['label']>0.001*24]#筛选训练样本，0.05天以内的不予考虑\n",
    "train.shape"
   ]
  },
  {
   "cell_type": "markdown",
   "metadata": {},
   "source": [
    "### 测试运单数据\n",
    "- loadingOrder 运单的运单号\n",
    "- timestamp 运单当前所处位置（经度、维度）的时间，格式为：yyyy-MM-dd'T'HH:mm:ss.SSSZ，如2019-09-05T16:33:17.000Z\n",
    "- longitude 运单承运船舶的当前经度：114.234567 \n",
    "- latitude 运单承运船舶的当前纬度：21.234567\n",
    "- speed 货物在运输过程中，当前船舶的瞬时速度，部分数据未提供的可自行计算。\n",
    "- direction 当前船舶的行驶方向，正北是0度，31480代表西北方向314.80度，900代表正东偏南9度。\n",
    "- carrierName 承运商名称，类似快递公司名称\n",
    "- vesselMMSI 脱敏后的船舶海上移动业务识别码MMSI， 唯一标识，对应到每一艘船\n",
    "- onboardDate 离开起运港时间，格式为：yyyy/MM/dd HH:mm:ss（dd与HH之间为两个空格），如2019/09/05 16:33:17\n",
    "- TRANSPORT_TRACE 船的路由，由“-”连接组成，例如CNSHK-MYPKG-MYTPP。由承运商预先录入，实际小概率存在不按此路由行驶（如遇塞港时），但最终会到达目的港口。"
   ]
  },
  {
   "cell_type": "code",
   "execution_count": 10,
   "metadata": {},
   "outputs": [
    {
     "data": {
      "text/html": [
       "<div>\n",
       "<style scoped>\n",
       "    .dataframe tbody tr th:only-of-type {\n",
       "        vertical-align: middle;\n",
       "    }\n",
       "\n",
       "    .dataframe tbody tr th {\n",
       "        vertical-align: top;\n",
       "    }\n",
       "\n",
       "    .dataframe thead th {\n",
       "        text-align: right;\n",
       "    }\n",
       "</style>\n",
       "<table border=\"1\" class=\"dataframe\">\n",
       "  <thead>\n",
       "    <tr style=\"text-align: right;\">\n",
       "      <th></th>\n",
       "      <th>loadingOrder</th>\n",
       "      <th>timestamp</th>\n",
       "      <th>longitude</th>\n",
       "      <th>latitude</th>\n",
       "      <th>speed</th>\n",
       "      <th>direction</th>\n",
       "      <th>carrierName</th>\n",
       "      <th>vesselMMSI</th>\n",
       "      <th>onboardDate</th>\n",
       "      <th>TRANSPORT_TRACE</th>\n",
       "      <th>temp_timestamp</th>\n",
       "    </tr>\n",
       "  </thead>\n",
       "  <tbody>\n",
       "    <tr>\n",
       "      <th>0</th>\n",
       "      <td>QM149151037282</td>\n",
       "      <td>2019-01-11 04:18:28+00:00</td>\n",
       "      <td>114.337167</td>\n",
       "      <td>22.556333</td>\n",
       "      <td>28.0</td>\n",
       "      <td>10680.0</td>\n",
       "      <td>UQCRKD</td>\n",
       "      <td>Q4197827697</td>\n",
       "      <td>2019-01-11 04:18:28</td>\n",
       "      <td>CNYTN-NZAKL</td>\n",
       "      <td>2019-01-11T04:18:28.000Z</td>\n",
       "    </tr>\n",
       "    <tr>\n",
       "      <th>1</th>\n",
       "      <td>QM149151037282</td>\n",
       "      <td>2019-01-11 04:39:08+00:00</td>\n",
       "      <td>114.426632</td>\n",
       "      <td>22.508475</td>\n",
       "      <td>30.0</td>\n",
       "      <td>13140.0</td>\n",
       "      <td>UQCRKD</td>\n",
       "      <td>Q4197827697</td>\n",
       "      <td>2019-01-11 04:18:28</td>\n",
       "      <td>CNYTN-NZAKL</td>\n",
       "      <td>2019-01-11T04:39:08.000Z</td>\n",
       "    </tr>\n",
       "    <tr>\n",
       "      <th>2</th>\n",
       "      <td>QM149151037282</td>\n",
       "      <td>2019-01-11 06:05:48+00:00</td>\n",
       "      <td>114.418000</td>\n",
       "      <td>22.182000</td>\n",
       "      <td>27.0</td>\n",
       "      <td>22210.0</td>\n",
       "      <td>UQCRKD</td>\n",
       "      <td>Q4197827697</td>\n",
       "      <td>2019-01-11 04:18:28</td>\n",
       "      <td>CNYTN-NZAKL</td>\n",
       "      <td>2019-01-11T06:05:48.000Z</td>\n",
       "    </tr>\n",
       "    <tr>\n",
       "      <th>3</th>\n",
       "      <td>QM149151037282</td>\n",
       "      <td>2019-01-11 08:48:28+00:00</td>\n",
       "      <td>114.101650</td>\n",
       "      <td>22.314968</td>\n",
       "      <td>15.0</td>\n",
       "      <td>4420.0</td>\n",
       "      <td>UQCRKD</td>\n",
       "      <td>Q4197827697</td>\n",
       "      <td>2019-01-11 04:18:28</td>\n",
       "      <td>CNYTN-NZAKL</td>\n",
       "      <td>2019-01-11T08:48:28.000Z</td>\n",
       "    </tr>\n",
       "    <tr>\n",
       "      <th>4</th>\n",
       "      <td>QM149151037282</td>\n",
       "      <td>2019-01-11 09:50:58+00:00</td>\n",
       "      <td>114.123500</td>\n",
       "      <td>22.324167</td>\n",
       "      <td>0.0</td>\n",
       "      <td>7310.0</td>\n",
       "      <td>UQCRKD</td>\n",
       "      <td>Q4197827697</td>\n",
       "      <td>2019-01-11 04:18:28</td>\n",
       "      <td>CNYTN-NZAKL</td>\n",
       "      <td>2019-01-11T09:50:58.000Z</td>\n",
       "    </tr>\n",
       "  </tbody>\n",
       "</table>\n",
       "</div>"
      ],
      "text/plain": [
       "     loadingOrder                 timestamp   longitude   latitude  speed  \\\n",
       "0  QM149151037282 2019-01-11 04:18:28+00:00  114.337167  22.556333   28.0   \n",
       "1  QM149151037282 2019-01-11 04:39:08+00:00  114.426632  22.508475   30.0   \n",
       "2  QM149151037282 2019-01-11 06:05:48+00:00  114.418000  22.182000   27.0   \n",
       "3  QM149151037282 2019-01-11 08:48:28+00:00  114.101650  22.314968   15.0   \n",
       "4  QM149151037282 2019-01-11 09:50:58+00:00  114.123500  22.324167    0.0   \n",
       "\n",
       "   direction carrierName   vesselMMSI         onboardDate TRANSPORT_TRACE  \\\n",
       "0    10680.0      UQCRKD  Q4197827697 2019-01-11 04:18:28     CNYTN-NZAKL   \n",
       "1    13140.0      UQCRKD  Q4197827697 2019-01-11 04:18:28     CNYTN-NZAKL   \n",
       "2    22210.0      UQCRKD  Q4197827697 2019-01-11 04:18:28     CNYTN-NZAKL   \n",
       "3     4420.0      UQCRKD  Q4197827697 2019-01-11 04:18:28     CNYTN-NZAKL   \n",
       "4     7310.0      UQCRKD  Q4197827697 2019-01-11 04:18:28     CNYTN-NZAKL   \n",
       "\n",
       "             temp_timestamp  \n",
       "0  2019-01-11T04:18:28.000Z  \n",
       "1  2019-01-11T04:39:08.000Z  \n",
       "2  2019-01-11T06:05:48.000Z  \n",
       "3  2019-01-11T08:48:28.000Z  \n",
       "4  2019-01-11T09:50:58.000Z  "
      ]
     },
     "execution_count": 10,
     "metadata": {},
     "output_type": "execute_result"
    }
   ],
   "source": [
    "test_data_pathB='../R2 ATest 0711.csv'\n",
    "test_data=pd.read_csv(test_data_pathB)\n",
    "test_data=get_data(test_data, mode='test')\n",
    "test_data.head()"
   ]
  },
  {
   "cell_type": "code",
   "execution_count": 11,
   "metadata": {},
   "outputs": [],
   "source": [
    "def convert_name_xy(name):#输入港口名称\n",
    "    port_name=port[port['TRANS_NODE_NAME'].isin([name])].reset_index()\n",
    "    return port_name['LONGITUDE'][0],port_name['LATITUDE'][0]#返回港口经纬度\n",
    "#  \n",
    "start_x=[]#起点\n",
    "start_y=[]#起点\n",
    "end_x=[]#终点\n",
    "end_y=[]#终点\n",
    "#存储中间结果,避免重复计算\n",
    "temp_dic={}\n",
    "for value in test_data['TRANSPORT_TRACE']:\n",
    "    s_e=value.split('-')\n",
    "    start_port=s_e[0]\n",
    "    end_port=s_e[-1]\n",
    "    if start_port in temp_dic:\n",
    "        re=temp_dic[start_port]\n",
    "    else:\n",
    "        re=convert_name_xy(value.split('-')[0])\n",
    "        temp_dic[start_port]=re\n",
    "    start_x.append(re[0])\n",
    "    start_y.append(re[1])\n",
    "    if end_port in temp_dic:\n",
    "        re=temp_dic[end_port]\n",
    "    else:\n",
    "        re=convert_name_xy(value.split('-')[-1])\n",
    "        temp_dic[end_port]=re\n",
    "    end_x.append(re[0])\n",
    "    end_y.append(re[1])\n",
    "test_data['start_x']=start_x\n",
    "test_data['start_y']=start_y\n",
    "test_data['end_x']=end_x\n",
    "test_data['end_y']=end_y"
   ]
  },
  {
   "cell_type": "code",
   "execution_count": 12,
   "metadata": {},
   "outputs": [],
   "source": [
    "#temp_dic"
   ]
  },
  {
   "cell_type": "code",
   "execution_count": 13,
   "metadata": {},
   "outputs": [
    {
     "name": "stdout",
     "output_type": "stream",
     "text": [
      "finished1...\n",
      "finished3...\n",
      "finished4...\n",
      "花费时间: 0.6123332977294922\n"
     ]
    }
   ],
   "source": [
    "import time\n",
    "from geopy.distance import geodesic\n",
    "def get_test_feature(df):\n",
    "    start_time=time.time()\n",
    "    df.sort_values(['loadingOrder', 'timestamp'], inplace=True)\n",
    "    # 特征只选择经纬度、速度\\方向\n",
    "    dis=[]\n",
    "    #df['dis'] = df.apply(lambda x: geodesic((x['start_y'],x['start_x']), (x['end_y'],x['end_x'])).km, axis=1)\n",
    "    #for i in ranngedf['start_x']\n",
    "    grouped=df.groupby('loadingOrder')\n",
    "    dis=[]\n",
    "    start_x=[]\n",
    "    start_y=[]\n",
    "    end_x=[]\n",
    "    end_y=[]\n",
    "    for _,group in grouped:\n",
    "        tmp=group[['start_x','start_y','end_x','end_y']][:1].reset_index(drop=True)\n",
    "        start_x.append(tmp['start_x'][0])\n",
    "        start_y.append(tmp['start_y'][0])\n",
    "        end_x.append(tmp['end_x'][0])\n",
    "        end_y.append(tmp['end_y'][0])\n",
    "        dis.append(geodesic((tmp['start_y'][0],tmp['start_x'][0]),(tmp['end_y'][0],tmp['end_x'][0])).km)\n",
    "    df['lat_diff']=df.groupby('loadingOrder')['latitude'].diff(1)\n",
    "    df['lon_diff']=df.groupby('loadingOrder')['longitude'].diff(1)\n",
    "    df['k']=df['lat_diff']/df['lon_diff']\n",
    "    print('finished1...')\n",
    "    df['speed_diff'] = df.groupby('loadingOrder')['speed'].diff(1)#速度变化量\n",
    "    df['diff_minutes'] = df.groupby('loadingOrder')['timestamp'].diff(1).dt.total_seconds() // 60#记录之间的间隔时间(单位:s)\n",
    "    df['a']=df['speed_diff']/df['diff_minutes']\n",
    "    #\n",
    "    group_df = df.groupby('loadingOrder')['timestamp'].agg([('mmax','max'),('count','count'), ('mmin','min')]).reset_index()\n",
    "    #这里的label表示测试集中给了多少天的轨迹数据\n",
    "    group_df['label']=(group_df['mmax'] - group_df['mmin']).dt.total_seconds()/3600\n",
    "    k=df.groupby('loadingOrder')['k'].agg([('k_max','max'), ('k_mean','mean'), ('k_min','min'),('k_median','median')])\n",
    "    a=df.groupby('loadingOrder')['a'].agg([('a_max','max'), ('a_mean','mean'), ('a_min','min'),('a_median','median')])\n",
    "    group_df = group_df.merge(k, on='loadingOrder', how='left')\n",
    "    group_df = group_df.merge(a, on='loadingOrder', how='left')\n",
    "    #在所有的记录中，多少记录是停船状态\n",
    "    df['anchor'] = ((df['lat_diff'].abs() <= 0.03) & (df['lon_diff'].abs() <= 0.03)& (df['speed_diff'] <= 0.3) & (df['diff_minutes'] >= 10)).astype(int)\n",
    "    anchor_df = df.groupby('loadingOrder')['anchor'].agg('sum').reset_index()\n",
    "    anchor_df.columns = ['loadingOrder', 'anchor_cnt']\n",
    "    group_df = group_df.merge(anchor_df, on='loadingOrder', how='left')\n",
    "    #merge回原表，增加一列: 'anchor_cnt'，同时算一下停船的次数占总记录的比例\n",
    "    group_df['anchor_ratio'] = group_df['anchor_cnt'] / group_df['count']\n",
    "    print('finished3...')\n",
    "    #以经纬,度,速度，方向为基础特征，然后计算最小，最大，均值，终值等统计特性（以运单为单位）\n",
    "    agg_function = ['min', 'max', 'mean', 'median']\n",
    "    agg_col = ['latitude', 'longitude', 'speed', 'direction']\n",
    "    group = df.groupby('loadingOrder')[agg_col].agg(agg_function).reset_index()\n",
    "    print('finished4...')\n",
    "    group.columns = ['loadingOrder'] + ['{}_{}'.format(i, j) for i in agg_col for j in agg_function]\n",
    "    group_df = group_df.merge(group, on='loadingOrder', how='left')\n",
    "    group_df['start_x']=start_x\n",
    "    group_df['start_y']=start_y\n",
    "    group_df['end_x']=end_x\n",
    "    group_df['end_y']=end_y\n",
    "    group_df['dis']=dis\n",
    "    end_time=time.time()\n",
    "    print(\"花费时间:\",end_time-start_time)\n",
    "    return group_df\n",
    "test=get_test_feature(test_data)"
   ]
  },
  {
   "cell_type": "markdown",
   "metadata": {},
   "source": [
    "## 观察下测试集中给了多少天的轨迹数据\n",
    "- 最长时间:16.88171296296296 day\n",
    "- 最短时间:0.046527777777777786 day\n",
    "- 平均时间:4.325498415081749 day"
   ]
  },
  {
   "cell_type": "code",
   "execution_count": 14,
   "metadata": {},
   "outputs": [
    {
     "name": "stdout",
     "output_type": "stream",
     "text": [
      "最长时间:26.122685185185187 day\n",
      "最短时间:0.004050925925925926 day\n",
      "平均时间:2.5039671063757822 day\n"
     ]
    },
    {
     "data": {
      "image/png": "[encoded data removed]",
      "text/plain": [
       "<Figure size 432x288 with 1 Axes>"
      ]
     },
     "metadata": {
      "needs_background": "light"
     },
     "output_type": "display_data"
    }
   ],
   "source": [
    "#观察下测试集中给了多少天的轨迹数据\n",
    "test_label=np.array(test['label']/24)\n",
    "##观察下预测结果的分布\n",
    "name_cnt={}#{订单号：对应的事件记录条数}\n",
    "tmp=[]\n",
    "print(\"最长时间:%s day\"%(np.max(test_label)))\n",
    "print(\"最短时间:%s day\"%np.min(test_label))\n",
    "print(\"平均时间:%s day\"%np.mean(test_label))\n",
    "#画出分布直方图\n",
    "import pylab as plt \n",
    "bins = np.linspace(int(min(test_label)),int(max(test_label)),int(max(test_label)))\n",
    "plt.hist(train_label,bins)\n",
    "plt.xlabel('ETA of orders ')\n",
    "plt.ylabel('Number of orders')\n",
    "plt.title('test lables')\n",
    "plt.show()"
   ]
  },
  {
   "cell_type": "code",
   "execution_count": 15,
   "metadata": {},
   "outputs": [
    {
     "data": {
      "text/plain": [
       "((12137, 36), (219, 35))"
      ]
     },
     "execution_count": 15,
     "metadata": {},
     "output_type": "execute_result"
    }
   ],
   "source": [
    "test.drop('label',axis=1,inplace=True)\n",
    "#train.to_csv('train.csv', index=False)\n",
    "#test.to_csv('test.csv', index=False)\n",
    "#train=pd.read_csv('train.csv')\n",
    "#test=pd.read_csv('test.csv')\n",
    "train.shape,test.shape"
   ]
  },
  {
   "cell_type": "code",
   "execution_count": 16,
   "metadata": {},
   "outputs": [],
   "source": [
    "features = [c for c in train.columns if c not in ['loadingOrder', 'label', 'mmin', 'mmax','k_min','a_min','direction_min','anchor_cnt']]\n",
    "#features"
   ]
  },
  {
   "cell_type": "code",
   "execution_count": 17,
   "metadata": {},
   "outputs": [],
   "source": [
    "#train['label']=np.log1p(train['label'])\n",
    "#train[['count','dis','direction_median','direction_mean','direction_max']]=np.log1p(train[['count','dis','direction_median','direction_mean','direction_max']])"
   ]
  },
  {
   "cell_type": "code",
   "execution_count": 18,
   "metadata": {},
   "outputs": [],
   "source": [
    "#test[['count','dis','direction_median','direction_mean','direction_max']]=np.log1p(test[['count','dis','direction_median','direction_mean','direction_max']])"
   ]
  },
  {
   "cell_type": "markdown",
   "metadata": {},
   "source": [
    "## 搭建训练模型"
   ]
  },
  {
   "cell_type": "markdown",
   "metadata": {},
   "source": [
    "## xgb+lgb"
   ]
  },
  {
   "cell_type": "code",
   "execution_count": 19,
   "metadata": {},
   "outputs": [],
   "source": [
    "import xgboost as xgb\n",
    "import lightgbm as lgb\n",
    "from sklearn.ensemble import RandomForestClassifier\n",
    "from sklearn.model_selection import StratifiedKFold\n",
    "from sklearn.model_selection import train_test_split\n",
    "import pandas as pd\n",
    "from tqdm import tqdm\n",
    "import numpy as np\n",
    "from sklearn.model_selection import GridSearchCV\n",
    "from sklearn.metrics import mean_squared_error,explained_variance_score\n",
    "from sklearn.model_selection import KFold\n",
    "from matplotlib import pyplot as plt\n",
    "#from featexp import get_univariate_plots#用于特征筛选，需要先安装featexp\n",
    "%matplotlib inline\n",
    "import warnings\n",
    "warnings.filterwarnings('ignore')"
   ]
  },
  {
   "cell_type": "code",
   "execution_count": 20,
   "metadata": {},
   "outputs": [
    {
     "data": {
      "text/plain": [
       "((12137, 36), (219, 35))"
      ]
     },
     "execution_count": 20,
     "metadata": {},
     "output_type": "execute_result"
    }
   ],
   "source": [
    "train.shape,test.shape"
   ]
  },
  {
   "cell_type": "code",
   "execution_count": 21,
   "metadata": {},
   "outputs": [
    {
     "data": {
      "text/plain": [
       "(12137, 28)"
      ]
     },
     "execution_count": 21,
     "metadata": {},
     "output_type": "execute_result"
    }
   ],
   "source": [
    "train_data=train[features]\n",
    "y=train['label']\n",
    "train_data.shape"
   ]
  },
  {
   "cell_type": "code",
   "execution_count": 22,
   "metadata": {},
   "outputs": [],
   "source": [
    "x_train,x_test,y_train,y_test=train_test_split(train_data,y,test_size=0.1,random_state=2020)"
   ]
  },
  {
   "cell_type": "code",
   "execution_count": 23,
   "metadata": {},
   "outputs": [
    {
     "name": "stdout",
     "output_type": "stream",
     "text": [
      "val_mse: 6.447885e+03\n",
      "train_mse: 4.791750e+02\n"
     ]
    }
   ],
   "source": [
    "llf=gbm = lgb.LGBMRegressor(objective='regression',\n",
    "                        num_leaves=31,\n",
    "                        learning_rate=0.1,\n",
    "                        n_estimators=600)\n",
    "\n",
    "llf.fit(x_train,y_train)\n",
    "# 网格搜索，参数优化\n",
    "'''\n",
    "estimator = lgb.LGBMRegressor(num_leaves=31)\n",
    "param_grid = {\n",
    "    'learning_rate': np.linspace(0.1,0.5,3),\n",
    "    'n_estimators': [100*i for i in range(1,10)],\n",
    "}\n",
    "llf = GridSearchCV(estimator, param_grid)\n",
    "llf.fit(x_train, y_train)\n",
    "print('Best parameters found by grid search are:', llf.best_params_)\n",
    "'''\n",
    "\n",
    "llf_val_mse=mean_squared_error(y_test,llf.predict(x_test))\n",
    "llf_train_mse=mean_squared_error(y_train,llf.predict(x_train))\n",
    "print('val_mse:','{:e}'.format(llf_val_mse))\n",
    "print('train_mse:','{:e}'.format(llf_train_mse))"
   ]
  },
  {
   "cell_type": "code",
   "execution_count": 24,
   "metadata": {},
   "outputs": [
    {
     "name": "stdout",
     "output_type": "stream",
     "text": [
      "val_mse: 6.375277e+03\n",
      "train_mse: 4.154470e+02\n"
     ]
    }
   ],
   "source": [
    "cv_params = {'n_estimators': [400, 500, 600, 700, 800]}\n",
    "other_params = {'learning_rate': 0.05, 'n_estimators': 500, 'max_depth': 7, 'min_child_weight': 1, 'seed': 0,\n",
    "                'subsample': 0.8, 'colsample_bytree': 0.8, 'gamma': 0, 'reg_alpha': 0, 'reg_lambda': 1}\n",
    "\n",
    "xlf = xgb.XGBRegressor(**other_params)\n",
    "xlf.fit(x_train,y_train)\n",
    "xlf_val_mse=mean_squared_error(y_test,xlf.predict(x_test))\n",
    "xlf_train_mse=mean_squared_error(y_train,xlf.predict(x_train))\n",
    "print('val_mse:','{:e}'.format(xlf_val_mse))\n",
    "print('train_mse:','{:e}'.format(xlf_train_mse))\n",
    "#optimized_GBM = GridSearchCV(estimator=model, param_grid=cv_params, scoring='r2', cv=5, verbose=1, n_jobs=4)\n",
    "#optimized_GBM.fit(train_data, y)\n",
    "#evalute_result = optimized_GBM.grid_scores_\n",
    "#print('每轮迭代运行结果:{0}'.format(evalute_result))\n",
    "#print('参数的最佳取值：{0}'.format(optimized_GBM.best_params_))\n",
    "#print('最佳模型得分:{0}'.format(optimized_GBM.best_score_))"
   ]
  },
  {
   "cell_type": "code",
   "execution_count": 25,
   "metadata": {},
   "outputs": [
    {
     "name": "stdout",
     "output_type": "stream",
     "text": [
      "第1次验证mse误差为5284.674640\n",
      "第2次验证mse误差为3954.280932\n",
      "第3次验证mse误差为5367.293285\n",
      "第4次验证mse误差为4233.425893\n",
      "第5次验证mse误差为4737.864688\n"
     ]
    }
   ],
   "source": [
    "details=[]\n",
    "answers=np.zeros(len(test))\n",
    "n_splits=5\n",
    "cnt=0\n",
    "sk=KFold(n_splits=n_splits,shuffle=True,random_state=2020)\n",
    "for train_k,test_k in sk.split(train_data,y):\n",
    "    cnt+=1\n",
    "    x_train=train_data.iloc[train_k]\n",
    "    y_train=y.iloc[train_k]\n",
    "    x_test=train_data.iloc[test_k]\n",
    "    y_test=y.iloc[test_k]\n",
    "    \n",
    "    xlf.fit(x_train,y_train)\n",
    "    pred_xgb=xlf.predict(x_test)\n",
    "    weight_xgb=mean_squared_error(y_test,pred_xgb)\n",
    "    \n",
    "    llf.fit(x_train,y_train)\n",
    "    pred_llf=llf.predict(x_test)\n",
    "    weight_lgb=mean_squared_error(y_test,pred_llf)\n",
    "    \n",
    "    \n",
    "    prob_xgb=xlf.predict(x_test)\n",
    "    prob_lgb=llf.predict(x_test)\n",
    "    \n",
    "    errors=[]\n",
    "    ij=[]\n",
    "    weight=np.arange(0,1.05,0.1)\n",
    "    for i,item in enumerate(weight):\n",
    "        prob_end=prob_xgb*item+prob_lgb*(1-item)\n",
    "        error=mean_squared_error(y_test,prob_end)\n",
    "        errors.append(error)\n",
    "        ij.append((item,1-item))\n",
    "    \n",
    "    ii=ij[np.argmin(errors)][0]\n",
    "    jj=ij[np.argmin(errors)][1]\n",
    "    \n",
    "    details.append(min(errors))\n",
    "    details.append(weight_xgb)\n",
    "    details.append(weight_lgb)\n",
    "    details.append(ii)\n",
    "    details.append(jj)\n",
    "\n",
    "    print(\"第%d次验证mse误差为%f\" %(cnt,min(errors)))\n",
    "   \n",
    "    test_xgb=xlf.predict(test[features])\n",
    "    test_lgb=llf.predict(test[features])\n",
    "    ans=test_xgb*ii+test_lgb*jj\n",
    "    \n",
    "    answers+=ans/n_splits"
   ]
  },
  {
   "cell_type": "markdown",
   "metadata": {},
   "source": [
    "## 观察训练/验证过程"
   ]
  },
  {
   "cell_type": "code",
   "execution_count": 26,
   "metadata": {},
   "outputs": [
    {
     "data": {
      "text/html": [
       "<div>\n",
       "<style scoped>\n",
       "    .dataframe tbody tr th:only-of-type {\n",
       "        vertical-align: middle;\n",
       "    }\n",
       "\n",
       "    .dataframe tbody tr th {\n",
       "        vertical-align: top;\n",
       "    }\n",
       "\n",
       "    .dataframe thead th {\n",
       "        text-align: right;\n",
       "    }\n",
       "</style>\n",
       "<table border=\"1\" class=\"dataframe\">\n",
       "  <thead>\n",
       "    <tr style=\"text-align: right;\">\n",
       "      <th></th>\n",
       "      <th>test_end_score</th>\n",
       "      <th>xgboost</th>\n",
       "      <th>lightgbm</th>\n",
       "      <th>weight_xgboost</th>\n",
       "      <th>weight_lightgbm</th>\n",
       "    </tr>\n",
       "  </thead>\n",
       "  <tbody>\n",
       "    <tr>\n",
       "      <th>0</th>\n",
       "      <td>5284.674640</td>\n",
       "      <td>5300.963384</td>\n",
       "      <td>5699.082993</td>\n",
       "      <td>0.8</td>\n",
       "      <td>0.2</td>\n",
       "    </tr>\n",
       "    <tr>\n",
       "      <th>1</th>\n",
       "      <td>3954.280932</td>\n",
       "      <td>4048.380414</td>\n",
       "      <td>4266.207881</td>\n",
       "      <td>0.6</td>\n",
       "      <td>0.4</td>\n",
       "    </tr>\n",
       "    <tr>\n",
       "      <th>2</th>\n",
       "      <td>5367.293285</td>\n",
       "      <td>5385.005052</td>\n",
       "      <td>5839.539134</td>\n",
       "      <td>0.8</td>\n",
       "      <td>0.2</td>\n",
       "    </tr>\n",
       "    <tr>\n",
       "      <th>3</th>\n",
       "      <td>4233.425893</td>\n",
       "      <td>4243.589545</td>\n",
       "      <td>4806.185427</td>\n",
       "      <td>0.9</td>\n",
       "      <td>0.1</td>\n",
       "    </tr>\n",
       "    <tr>\n",
       "      <th>4</th>\n",
       "      <td>4737.864688</td>\n",
       "      <td>4890.239576</td>\n",
       "      <td>4955.264014</td>\n",
       "      <td>0.5</td>\n",
       "      <td>0.5</td>\n",
       "    </tr>\n",
       "  </tbody>\n",
       "</table>\n",
       "</div>"
      ],
      "text/plain": [
       "   test_end_score      xgboost     lightgbm  weight_xgboost  weight_lightgbm\n",
       "0     5284.674640  5300.963384  5699.082993             0.8              0.2\n",
       "1     3954.280932  4048.380414  4266.207881             0.6              0.4\n",
       "2     5367.293285  5385.005052  5839.539134             0.8              0.2\n",
       "3     4233.425893  4243.589545  4806.185427             0.9              0.1\n",
       "4     4737.864688  4890.239576  4955.264014             0.5              0.5"
      ]
     },
     "execution_count": 26,
     "metadata": {},
     "output_type": "execute_result"
    }
   ],
   "source": [
    "#观察训练/验证过程\n",
    "df=pd.DataFrame(np.array(details).reshape(int(len(details)/5),5)\n",
    "                ,columns=['test_end_score','xgboost','lightgbm','weight_xgboost','weight_lightgbm',])\n",
    "df"
   ]
  },
  {
   "cell_type": "markdown",
   "metadata": {},
   "source": [
    "## 观察预测结果的分布"
   ]
  },
  {
   "cell_type": "code",
   "execution_count": 27,
   "metadata": {},
   "outputs": [
    {
     "name": "stdout",
     "output_type": "stream",
     "text": [
      "预测的最长时间:38.94155130118619 day\n",
      "预测的最短时间:1.6265700219252468 day\n",
      "预测的平均时间:19.27223800510642 day\n"
     ]
    },
    {
     "data": {
      "image/png": "[encoded data removed]",
      "text/plain": [
       "<Figure size 432x288 with 1 Axes>"
      ]
     },
     "metadata": {
      "needs_background": "light"
     },
     "output_type": "display_data"
    }
   ],
   "source": [
    "##观察下预测结果的分布\n",
    "re_day=answers/24\n",
    "name_cnt={}#{订单号：对应的事件记录条数}\n",
    "tmp=[]\n",
    "print(\"预测的最长时间:%s day\"%(np.max(re_day)))\n",
    "print(\"预测的最短时间:%s day\"%np.min(re_day))\n",
    "print(\"预测的平均时间:%s day\"%np.mean(re_day))\n",
    "#画出分布直方图\n",
    "import pylab as plt \n",
    "bins = np.linspace(int(min(re_day)),int(max(re_day)),int(max(re_day)))\n",
    "plt.hist(re_day,bins)\n",
    "plt.xlabel('ETA of orders ')\n",
    "plt.ylabel('Number of orders')\n",
    "plt.show()"
   ]
  },
  {
   "cell_type": "code",
   "execution_count": 28,
   "metadata": {},
   "outputs": [
    {
     "name": "stdout",
     "output_type": "stream",
     "text": [
      "预测的最长时间:41.53280218409299 day\n",
      "预测的最短时间:0.7503500481643698 day\n",
      "预测的平均时间:15.602533636239563 day\n"
     ]
    },
    {
     "data": {
      "image/png": "[encoded data removed]",
      "text/plain": [
       "<Figure size 432x288 with 1 Axes>"
      ]
     },
     "metadata": {
      "needs_background": "light"
     },
     "output_type": "display_data"
    },
    {
     "data": {
      "text/plain": [
       "<function matplotlib.pyplot.close(fig=None)>"
      ]
     },
     "execution_count": 28,
     "metadata": {},
     "output_type": "execute_result"
    }
   ],
   "source": [
    "sub11025=np.load('../submit/11025.npy')\n",
    "##观察下预测结果的分布\n",
    "re_day=sub11025/24\n",
    "name_cnt={}#{订单号：对应的事件记录条数}\n",
    "tmp=[]\n",
    "print(\"预测的最长时间:%s day\"%(np.max(re_day)))\n",
    "print(\"预测的最短时间:%s day\"%np.min(re_day))\n",
    "print(\"预测的平均时间:%s day\"%np.mean(re_day))\n",
    "#画出分布直方图\n",
    "import pylab as plt \n",
    "bins = np.linspace(int(min(re_day)),int(max(re_day)),int(max(re_day)))\n",
    "plt.hist(re_day,bins)\n",
    "plt.xlabel('ETA of orders ')\n",
    "plt.ylabel('Number of orders')\n",
    "plt.show()\n",
    "plt.close"
   ]
  },
  {
   "cell_type": "code",
   "execution_count": 30,
   "metadata": {},
   "outputs": [
    {
     "name": "stdout",
     "output_type": "stream",
     "text": [
      "answer与sub11025的mse:44041\n"
     ]
    }
   ],
   "source": [
    "print(\"answer与sub11025的mse:%.0f\"%mean_squared_error(answers,sub11025))"
   ]
  },
  {
   "cell_type": "markdown",
   "metadata": {},
   "source": [
    "## 特征重要度筛选"
   ]
  },
  {
   "cell_type": "code",
   "execution_count": 31,
   "metadata": {},
   "outputs": [
    {
     "data": {
      "text/plain": [
       "<Figure size 1296x648 with 0 Axes>"
      ]
     },
     "metadata": {},
     "output_type": "display_data"
    },
    {
     "data": {
      "image/png": "[encoded data removed]",
      "text/plain": [
       "<Figure size 432x288 with 1 Axes>"
      ]
     },
     "metadata": {
      "needs_background": "light"
     },
     "output_type": "display_data"
    }
   ],
   "source": [
    "plt.figure(figsize=(18,9))\n",
    "lgb.plot_importance(llf,max_num_features=29)\n",
    "plt.title('lightgbm——feature_importances_',fontsize=14)\n",
    "plt.show()"
   ]
  },
  {
   "cell_type": "code",
   "execution_count": 32,
   "metadata": {},
   "outputs": [
    {
     "data": {
      "text/plain": [
       "<Figure size 1296x648 with 0 Axes>"
      ]
     },
     "metadata": {},
     "output_type": "display_data"
    },
    {
     "data": {
      "image/png": "[encoded data removed]",
      "text/plain": [
       "<Figure size 432x288 with 1 Axes>"
      ]
     },
     "metadata": {
      "needs_background": "light"
     },
     "output_type": "display_data"
    }
   ],
   "source": [
    "plt.figure(figsize=(18,9))\n",
    "xgb.plot_importance(xlf,max_num_features=29,importance_type='gain')#'gain'可以换成weight\n",
    "plt.title('xgboost——feature_importances_',fontsize=14)\n",
    "plt.show()"
   ]
  },
  {
   "cell_type": "code",
   "execution_count": 33,
   "metadata": {},
   "outputs": [
    {
     "data": {
      "text/plain": [
       "Text(0.5, 1.0, 'xgboost&lightgbm——feature_importances_')"
      ]
     },
     "execution_count": 33,
     "metadata": {},
     "output_type": "execute_result"
    },
    {
     "data": {
      "image/png": "[encoded data removed]",
      "text/plain": [
       "<Figure size 2160x900 with 1 Axes>"
      ]
     },
     "metadata": {
      "needs_background": "light"
     },
     "output_type": "display_data"
    }
   ],
   "source": [
    "width=0.25\n",
    "address=np.arange(len(train_data.columns))\n",
    "tick_label=train_data.columns\n",
    "plt.figure(dpi=600,figsize=(3.6,1.5))\n",
    "plt.bar(address\n",
    "        ,xlf.feature_importances_\n",
    "        ,width\n",
    "        ,color='y'\n",
    "        ,label='xgboost')\n",
    "plt.bar(address+width\n",
    "        ,llf.feature_importances_/sum(llf.feature_importances_)\n",
    "        ,width\n",
    "        ,color='c'\n",
    "        ,label='lightgbm')\n",
    "plt.legend(fontsize=4)\n",
    "plt.xticks(address+width\n",
    "           ,tick_label\n",
    "           ,fontsize=4\n",
    "           ,rotation=90\n",
    "           ,horizontalalignment='center')\n",
    "plt.yticks(fontsize=4,rotation=0)\n",
    "plt.title('xgboost&lightgbm——feature_importances_',fontsize=4)"
   ]
  },
  {
   "cell_type": "markdown",
   "metadata": {},
   "source": [
    "## 生成提交文件"
   ]
  },
  {
   "cell_type": "code",
   "execution_count": 169,
   "metadata": {},
   "outputs": [],
   "source": [
    "test['label'] = answers\n",
    "result=test[['loadingOrder', 'label']]\n",
    "test_data_path = 'A_testData0531.csv'\n",
    "test_data=pd.read_csv(test_data_path)\n",
    "test_data=get_data(test_data, mode='test')\n",
    "#\n",
    "test_data = test_data.merge(result, on='loadingOrder', how='left')\n",
    "test_data['ETA'] = (test_data['onboardDate'] + test_data['label'].apply(lambda x:pd.Timedelta(hours=x))).apply(lambda x:x.strftime('%Y/%m/%d  %H:%M:%S'))\n",
    "test_data.drop(['direction','TRANSPORT_TRACE'],axis=1,inplace=True)\n",
    "test_data['onboardDate'] = test_data['onboardDate'].apply(lambda x:x.strftime('%Y/%m/%d  %H:%M:%S'))\n",
    "test_data['creatDate'] = pd.datetime.now().strftime('%Y/%m/%d  %H:%M:%S')\n",
    "test_data['timestamp'] = test_data['temp_timestamp']\n",
    "# 整理columns顺序\n",
    "submit = test_data[['loadingOrder', 'timestamp', 'longitude', 'latitude', 'carrierName', 'vesselMMSI', 'onboardDate', 'ETA', 'creatDate']]"
   ]
  },
  {
   "cell_type": "code",
   "execution_count": 170,
   "metadata": {},
   "outputs": [
    {
     "data": {
      "text/html": [
       "<div>\n",
       "<style scoped>\n",
       "    .dataframe tbody tr th:only-of-type {\n",
       "        vertical-align: middle;\n",
       "    }\n",
       "\n",
       "    .dataframe tbody tr th {\n",
       "        vertical-align: top;\n",
       "    }\n",
       "\n",
       "    .dataframe thead th {\n",
       "        text-align: right;\n",
       "    }\n",
       "</style>\n",
       "<table border=\"1\" class=\"dataframe\">\n",
       "  <thead>\n",
       "    <tr style=\"text-align: right;\">\n",
       "      <th></th>\n",
       "      <th>loadingOrder</th>\n",
       "      <th>timestamp</th>\n",
       "      <th>longitude</th>\n",
       "      <th>latitude</th>\n",
       "      <th>carrierName</th>\n",
       "      <th>vesselMMSI</th>\n",
       "      <th>onboardDate</th>\n",
       "      <th>ETA</th>\n",
       "      <th>creatDate</th>\n",
       "    </tr>\n",
       "  </thead>\n",
       "  <tbody>\n",
       "    <tr>\n",
       "      <th>0</th>\n",
       "      <td>CF946210847851</td>\n",
       "      <td>2019-04-02T02:42:28.000Z</td>\n",
       "      <td>138.471062</td>\n",
       "      <td>40.278787</td>\n",
       "      <td>OIEQNT</td>\n",
       "      <td>R5480015614</td>\n",
       "      <td>2019/04/02  02:42:28</td>\n",
       "      <td>2019/04/24  05:11:26</td>\n",
       "      <td>2020/06/10  16:33:35</td>\n",
       "    </tr>\n",
       "    <tr>\n",
       "      <th>1</th>\n",
       "      <td>CF946210847851</td>\n",
       "      <td>2019-04-02T02:59:28.000Z</td>\n",
       "      <td>138.552168</td>\n",
       "      <td>40.327785</td>\n",
       "      <td>OIEQNT</td>\n",
       "      <td>R5480015614</td>\n",
       "      <td>2019/04/02  02:42:28</td>\n",
       "      <td>2019/04/24  05:11:26</td>\n",
       "      <td>2020/06/10  16:33:35</td>\n",
       "    </tr>\n",
       "    <tr>\n",
       "      <th>2</th>\n",
       "      <td>CF946210847851</td>\n",
       "      <td>2019-04-02T03:07:28.000Z</td>\n",
       "      <td>138.588250</td>\n",
       "      <td>40.352542</td>\n",
       "      <td>OIEQNT</td>\n",
       "      <td>R5480015614</td>\n",
       "      <td>2019/04/02  02:42:28</td>\n",
       "      <td>2019/04/24  05:11:26</td>\n",
       "      <td>2020/06/10  16:33:35</td>\n",
       "    </tr>\n",
       "    <tr>\n",
       "      <th>3</th>\n",
       "      <td>CF946210847851</td>\n",
       "      <td>2019-04-02T03:43:28.000Z</td>\n",
       "      <td>138.751325</td>\n",
       "      <td>40.459447</td>\n",
       "      <td>OIEQNT</td>\n",
       "      <td>R5480015614</td>\n",
       "      <td>2019/04/02  02:42:28</td>\n",
       "      <td>2019/04/24  05:11:26</td>\n",
       "      <td>2020/06/10  16:33:35</td>\n",
       "    </tr>\n",
       "    <tr>\n",
       "      <th>4</th>\n",
       "      <td>CF946210847851</td>\n",
       "      <td>2019-04-02T04:29:28.000Z</td>\n",
       "      <td>138.969782</td>\n",
       "      <td>40.581485</td>\n",
       "      <td>OIEQNT</td>\n",
       "      <td>R5480015614</td>\n",
       "      <td>2019/04/02  02:42:28</td>\n",
       "      <td>2019/04/24  05:11:26</td>\n",
       "      <td>2020/06/10  16:33:35</td>\n",
       "    </tr>\n",
       "    <tr>\n",
       "      <th>...</th>\n",
       "      <td>...</td>\n",
       "      <td>...</td>\n",
       "      <td>...</td>\n",
       "      <td>...</td>\n",
       "      <td>...</td>\n",
       "      <td>...</td>\n",
       "      <td>...</td>\n",
       "      <td>...</td>\n",
       "      <td>...</td>\n",
       "    </tr>\n",
       "    <tr>\n",
       "      <th>45451</th>\n",
       "      <td>XG479584941731</td>\n",
       "      <td>2019-01-13T03:56:08.000Z</td>\n",
       "      <td>104.633357</td>\n",
       "      <td>1.630708</td>\n",
       "      <td>JCMFTA</td>\n",
       "      <td>U2218600548</td>\n",
       "      <td>2019/01/10  00:27:58</td>\n",
       "      <td>2019/02/04  22:49:32</td>\n",
       "      <td>2020/06/10  16:33:35</td>\n",
       "    </tr>\n",
       "    <tr>\n",
       "      <th>45452</th>\n",
       "      <td>XG479584941731</td>\n",
       "      <td>2019-01-13T03:57:08.000Z</td>\n",
       "      <td>104.631958</td>\n",
       "      <td>1.626713</td>\n",
       "      <td>JCMFTA</td>\n",
       "      <td>U2218600548</td>\n",
       "      <td>2019/01/10  00:27:58</td>\n",
       "      <td>2019/02/04  22:49:32</td>\n",
       "      <td>2020/06/10  16:33:35</td>\n",
       "    </tr>\n",
       "    <tr>\n",
       "      <th>45453</th>\n",
       "      <td>XG479584941731</td>\n",
       "      <td>2019-01-13T03:57:38.000Z</td>\n",
       "      <td>104.631258</td>\n",
       "      <td>1.624615</td>\n",
       "      <td>JCMFTA</td>\n",
       "      <td>U2218600548</td>\n",
       "      <td>2019/01/10  00:27:58</td>\n",
       "      <td>2019/02/04  22:49:32</td>\n",
       "      <td>2020/06/10  16:33:35</td>\n",
       "    </tr>\n",
       "    <tr>\n",
       "      <th>45454</th>\n",
       "      <td>XG479584941731</td>\n",
       "      <td>2019-01-13T03:58:08.000Z</td>\n",
       "      <td>104.630597</td>\n",
       "      <td>1.622682</td>\n",
       "      <td>JCMFTA</td>\n",
       "      <td>U2218600548</td>\n",
       "      <td>2019/01/10  00:27:58</td>\n",
       "      <td>2019/02/04  22:49:32</td>\n",
       "      <td>2020/06/10  16:33:35</td>\n",
       "    </tr>\n",
       "    <tr>\n",
       "      <th>45455</th>\n",
       "      <td>XG479584941731</td>\n",
       "      <td>2019-01-13T03:59:08.000Z</td>\n",
       "      <td>104.629178</td>\n",
       "      <td>1.618552</td>\n",
       "      <td>JCMFTA</td>\n",
       "      <td>U2218600548</td>\n",
       "      <td>2019/01/10  00:27:58</td>\n",
       "      <td>2019/02/04  22:49:32</td>\n",
       "      <td>2020/06/10  16:33:35</td>\n",
       "    </tr>\n",
       "  </tbody>\n",
       "</table>\n",
       "<p>45456 rows × 9 columns</p>\n",
       "</div>"
      ],
      "text/plain": [
       "         loadingOrder                 timestamp   longitude   latitude  \\\n",
       "0      CF946210847851  2019-04-02T02:42:28.000Z  138.471062  40.278787   \n",
       "1      CF946210847851  2019-04-02T02:59:28.000Z  138.552168  40.327785   \n",
       "2      CF946210847851  2019-04-02T03:07:28.000Z  138.588250  40.352542   \n",
       "3      CF946210847851  2019-04-02T03:43:28.000Z  138.751325  40.459447   \n",
       "4      CF946210847851  2019-04-02T04:29:28.000Z  138.969782  40.581485   \n",
       "...               ...                       ...         ...        ...   \n",
       "45451  XG479584941731  2019-01-13T03:56:08.000Z  104.633357   1.630708   \n",
       "45452  XG479584941731  2019-01-13T03:57:08.000Z  104.631958   1.626713   \n",
       "45453  XG479584941731  2019-01-13T03:57:38.000Z  104.631258   1.624615   \n",
       "45454  XG479584941731  2019-01-13T03:58:08.000Z  104.630597   1.622682   \n",
       "45455  XG479584941731  2019-01-13T03:59:08.000Z  104.629178   1.618552   \n",
       "\n",
       "      carrierName   vesselMMSI           onboardDate                   ETA  \\\n",
       "0          OIEQNT  R5480015614  2019/04/02  02:42:28  2019/04/24  05:11:26   \n",
       "1          OIEQNT  R5480015614  2019/04/02  02:42:28  2019/04/24  05:11:26   \n",
       "2          OIEQNT  R5480015614  2019/04/02  02:42:28  2019/04/24  05:11:26   \n",
       "3          OIEQNT  R5480015614  2019/04/02  02:42:28  2019/04/24  05:11:26   \n",
       "4          OIEQNT  R5480015614  2019/04/02  02:42:28  2019/04/24  05:11:26   \n",
       "...           ...          ...                   ...                   ...   \n",
       "45451      JCMFTA  U2218600548  2019/01/10  00:27:58  2019/02/04  22:49:32   \n",
       "45452      JCMFTA  U2218600548  2019/01/10  00:27:58  2019/02/04  22:49:32   \n",
       "45453      JCMFTA  U2218600548  2019/01/10  00:27:58  2019/02/04  22:49:32   \n",
       "45454      JCMFTA  U2218600548  2019/01/10  00:27:58  2019/02/04  22:49:32   \n",
       "45455      JCMFTA  U2218600548  2019/01/10  00:27:58  2019/02/04  22:49:32   \n",
       "\n",
       "                  creatDate  \n",
       "0      2020/06/10  16:33:35  \n",
       "1      2020/06/10  16:33:35  \n",
       "2      2020/06/10  16:33:35  \n",
       "3      2020/06/10  16:33:35  \n",
       "4      2020/06/10  16:33:35  \n",
       "...                     ...  \n",
       "45451  2020/06/10  16:33:35  \n",
       "45452  2020/06/10  16:33:35  \n",
       "45453  2020/06/10  16:33:35  \n",
       "45454  2020/06/10  16:33:35  \n",
       "45455  2020/06/10  16:33:35  \n",
       "\n",
       "[45456 rows x 9 columns]"
      ]
     },
     "execution_count": 170,
     "metadata": {},
     "output_type": "execute_result"
    }
   ],
   "source": [
    "submit"
   ]
  },
  {
   "cell_type": "code",
   "execution_count": 171,
   "metadata": {},
   "outputs": [],
   "source": [
    "submit.to_csv('result6_11v1.csv', index=False)"
   ]
  },
  {
   "cell_type": "code",
   "execution_count": null,
   "metadata": {},
   "outputs": [],
   "source": []
  }
 ],
 "metadata": {
  "kernelspec": {
   "display_name": "huawei_copy",
   "language": "python",
   "name": "huawei_copy"
  },
  "language_info": {
   "codemirror_mode": {
    "name": "ipython",
    "version": 3
   },
   "file_extension": ".py",
   "mimetype": "text/x-python",
   "name": "python",
   "nbconvert_exporter": "python",
   "pygments_lexer": "ipython3",
   "version": "3.7.7"
  }
 },
 "nbformat": 4,
 "nbformat_minor": 2
}
